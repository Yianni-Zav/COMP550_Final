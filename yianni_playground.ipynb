{
 "cells": [
  {
   "cell_type": "code",
   "execution_count": 28,
   "metadata": {},
   "outputs": [],
   "source": [
    "from dadjokes import Dadjoke\n",
    "import json\n",
    "import pandas as pd\n",
    "import re"
   ]
  },
  {
   "cell_type": "code",
   "execution_count": null,
   "metadata": {},
   "outputs": [],
   "source": [
    "dadjoke_dict = {}\n",
    "for i in range(100):\n",
    "    dadjoke = Dadjoke()\n",
    "    dadjoke_dict[dadjoke.id] = dadjoke.joke"
   ]
  },
  {
   "cell_type": "code",
   "execution_count": null,
   "metadata": {},
   "outputs": [],
   "source": []
  },
  {
   "cell_type": "code",
   "execution_count": null,
   "metadata": {},
   "outputs": [],
   "source": []
  },
  {
   "cell_type": "code",
   "execution_count": 21,
   "metadata": {},
   "outputs": [],
   "source": [
    "df = pd.read_csv('headlines.csv')"
   ]
  },
  {
   "cell_type": "code",
   "execution_count": 23,
   "metadata": {},
   "outputs": [],
   "source": [
    "df.id = df.index"
   ]
  },
  {
   "cell_type": "code",
   "execution_count": 26,
   "metadata": {},
   "outputs": [
    {
     "data": {
      "text/plain": [
       "'\" Pence Is Trying to Control Republican Politics . Trump <Aides/> Are n’t Happy . \" An opportunist hard at work .'"
      ]
     },
     "execution_count": 26,
     "metadata": {},
     "output_type": "execute_result"
    }
   ],
   "source": [
    "df.iloc[0]['original1']"
   ]
  },
  {
   "cell_type": "code",
   "execution_count": 29,
   "metadata": {},
   "outputs": [],
   "source": [
    "def replace_word_in_brackets(row):\n",
    "    # The pattern finds a word within angle brackets\n",
    "    pattern = r'<(.*?)>'\n",
    "    # Replace the found word with the word in 'edit1'\n",
    "    return re.sub(pattern, row['edit1'], row['original1'])\n",
    "\n",
    "# Apply the function to each row\n",
    "df['modified'] = df.apply(replace_word_in_brackets, axis=1)"
   ]
  },
  {
   "cell_type": "code",
   "execution_count": 33,
   "metadata": {},
   "outputs": [
    {
     "data": {
      "text/html": [
       "<div>\n",
       "<style scoped>\n",
       "    .dataframe tbody tr th:only-of-type {\n",
       "        vertical-align: middle;\n",
       "    }\n",
       "\n",
       "    .dataframe tbody tr th {\n",
       "        vertical-align: top;\n",
       "    }\n",
       "\n",
       "    .dataframe thead th {\n",
       "        text-align: right;\n",
       "    }\n",
       "</style>\n",
       "<table border=\"1\" class=\"dataframe\">\n",
       "  <thead>\n",
       "    <tr style=\"text-align: right;\">\n",
       "      <th></th>\n",
       "      <th>id</th>\n",
       "      <th>original1</th>\n",
       "      <th>edit1</th>\n",
       "      <th>modified</th>\n",
       "    </tr>\n",
       "  </thead>\n",
       "  <tbody>\n",
       "    <tr>\n",
       "      <th>0</th>\n",
       "      <td>0</td>\n",
       "      <td>\" Pence Is Trying to Control Republican Politi...</td>\n",
       "      <td>barbers</td>\n",
       "      <td>\" Pence Is Trying to Control Republican Politi...</td>\n",
       "    </tr>\n",
       "    <tr>\n",
       "      <th>1</th>\n",
       "      <td>1</td>\n",
       "      <td>\" Pence Is Trying to Control Republican Politi...</td>\n",
       "      <td>barbers</td>\n",
       "      <td>\" Pence Is Trying to Control Republican Politi...</td>\n",
       "    </tr>\n",
       "    <tr>\n",
       "      <th>2</th>\n",
       "      <td>2</td>\n",
       "      <td>\" Pence Is Trying to &lt;Control/&gt; Republican Pol...</td>\n",
       "      <td>Bungle</td>\n",
       "      <td>\" Pence Is Trying to Bungle Republican Politic...</td>\n",
       "    </tr>\n",
       "    <tr>\n",
       "      <th>3</th>\n",
       "      <td>3</td>\n",
       "      <td>\" There is no Man Behind the Curtain , \" says ...</td>\n",
       "      <td>elephant</td>\n",
       "      <td>\" There is no Man Behind the Curtain , \" says ...</td>\n",
       "    </tr>\n",
       "    <tr>\n",
       "      <th>4</th>\n",
       "      <td>4</td>\n",
       "      <td>\" There is no Man Behind the Curtain , \" says ...</td>\n",
       "      <td>elephant</td>\n",
       "      <td>\" There is no Man Behind the Curtain , \" says ...</td>\n",
       "    </tr>\n",
       "    <tr>\n",
       "      <th>...</th>\n",
       "      <td>...</td>\n",
       "      <td>...</td>\n",
       "      <td>...</td>\n",
       "      <td>...</td>\n",
       "    </tr>\n",
       "    <tr>\n",
       "      <th>394</th>\n",
       "      <td>394</td>\n",
       "      <td>CBO : New Health Care Bill Would Leave &lt;Millio...</td>\n",
       "      <td>dozens</td>\n",
       "      <td>CBO : New Health Care Bill Would Leave dozens ...</td>\n",
       "    </tr>\n",
       "    <tr>\n",
       "      <th>395</th>\n",
       "      <td>395</td>\n",
       "      <td>CBO : New &lt;Health/&gt; Care Bill Would Leave Mill...</td>\n",
       "      <td>sausage</td>\n",
       "      <td>CBO : New sausage Care Bill Would Leave Millio...</td>\n",
       "    </tr>\n",
       "    <tr>\n",
       "      <th>396</th>\n",
       "      <td>396</td>\n",
       "      <td>CBS Poll : Americans lack confidence in Trump ...</td>\n",
       "      <td>locate</td>\n",
       "      <td>CBS Poll : Americans lack confidence in Trump ...</td>\n",
       "    </tr>\n",
       "    <tr>\n",
       "      <th>397</th>\n",
       "      <td>397</td>\n",
       "      <td>CBS Poll : Americans lack confidence in Trump ...</td>\n",
       "      <td>locate</td>\n",
       "      <td>CBS Poll : Americans lack confidence in Trump ...</td>\n",
       "    </tr>\n",
       "    <tr>\n",
       "      <th>398</th>\n",
       "      <td>398</td>\n",
       "      <td>CBS Poll : Americans lack confidence in Trump ...</td>\n",
       "      <td>spaghetti</td>\n",
       "      <td>CBS Poll : Americans lack confidence in Trump ...</td>\n",
       "    </tr>\n",
       "  </tbody>\n",
       "</table>\n",
       "<p>399 rows × 4 columns</p>\n",
       "</div>"
      ],
      "text/plain": [
       "      id                                          original1      edit1  \\\n",
       "0      0  \" Pence Is Trying to Control Republican Politi...    barbers   \n",
       "1      1  \" Pence Is Trying to Control Republican Politi...    barbers   \n",
       "2      2  \" Pence Is Trying to <Control/> Republican Pol...     Bungle   \n",
       "3      3  \" There is no Man Behind the Curtain , \" says ...   elephant   \n",
       "4      4  \" There is no Man Behind the Curtain , \" says ...   elephant   \n",
       "..   ...                                                ...        ...   \n",
       "394  394  CBO : New Health Care Bill Would Leave <Millio...     dozens   \n",
       "395  395  CBO : New <Health/> Care Bill Would Leave Mill...    sausage   \n",
       "396  396  CBS Poll : Americans lack confidence in Trump ...     locate   \n",
       "397  397  CBS Poll : Americans lack confidence in Trump ...     locate   \n",
       "398  398  CBS Poll : Americans lack confidence in Trump ...  spaghetti   \n",
       "\n",
       "                                              modified  \n",
       "0    \" Pence Is Trying to Control Republican Politi...  \n",
       "1    \" Pence Is Trying to Control Republican Politi...  \n",
       "2    \" Pence Is Trying to Bungle Republican Politic...  \n",
       "3    \" There is no Man Behind the Curtain , \" says ...  \n",
       "4    \" There is no Man Behind the Curtain , \" says ...  \n",
       "..                                                 ...  \n",
       "394  CBO : New Health Care Bill Would Leave dozens ...  \n",
       "395  CBO : New sausage Care Bill Would Leave Millio...  \n",
       "396  CBS Poll : Americans lack confidence in Trump ...  \n",
       "397  CBS Poll : Americans lack confidence in Trump ...  \n",
       "398  CBS Poll : Americans lack confidence in Trump ...  \n",
       "\n",
       "[399 rows x 4 columns]"
      ]
     },
     "execution_count": 33,
     "metadata": {},
     "output_type": "execute_result"
    }
   ],
   "source": [
    "df"
   ]
  },
  {
   "cell_type": "code",
   "execution_count": 35,
   "metadata": {},
   "outputs": [
    {
     "data": {
      "text/plain": [
       "'\" Pence Is Trying to Control Republican Politics . Trump <Aides/> Are n’t Happy . \" An opportunist hard at work .'"
      ]
     },
     "execution_count": 35,
     "metadata": {},
     "output_type": "execute_result"
    }
   ],
   "source": [
    "df.iloc[0]['original1']"
   ]
  },
  {
   "cell_type": "code",
   "execution_count": 34,
   "metadata": {},
   "outputs": [
    {
     "data": {
      "text/plain": [
       "'\" Pence Is Trying to Control Republican Politics . Trump barbers Are n’t Happy . \" An opportunist hard at work .'"
      ]
     },
     "execution_count": 34,
     "metadata": {},
     "output_type": "execute_result"
    }
   ],
   "source": [
    "df.iloc[0]['modified']"
   ]
  },
  {
   "cell_type": "code",
   "execution_count": 37,
   "metadata": {},
   "outputs": [],
   "source": [
    "df['id modified'.split()].to_csv('headlines.csv')"
   ]
  },
  {
   "cell_type": "code",
   "execution_count": null,
   "metadata": {},
   "outputs": [],
   "source": []
  },
  {
   "cell_type": "code",
   "execution_count": null,
   "metadata": {},
   "outputs": [],
   "source": []
  },
  {
   "cell_type": "code",
   "execution_count": null,
   "metadata": {},
   "outputs": [],
   "source": []
  },
  {
   "cell_type": "code",
   "execution_count": null,
   "metadata": {},
   "outputs": [],
   "source": []
  },
  {
   "cell_type": "code",
   "execution_count": 42,
   "metadata": {},
   "outputs": [],
   "source": [
    "df = pd.DataFrame([{'id':id_,'joke':joke}for id_, joke in dadjoke_dict.items()]).to_csv('dad_jokes.csv')"
   ]
  },
  {
   "cell_type": "code",
   "execution_count": null,
   "metadata": {},
   "outputs": [],
   "source": []
  },
  {
   "cell_type": "code",
   "execution_count": 7,
   "metadata": {},
   "outputs": [],
   "source": []
  },
  {
   "cell_type": "code",
   "execution_count": 12,
   "metadata": {},
   "outputs": [
    {
     "data": {
      "text/html": [
       "<div>\n",
       "<style scoped>\n",
       "    .dataframe tbody tr th:only-of-type {\n",
       "        vertical-align: middle;\n",
       "    }\n",
       "\n",
       "    .dataframe tbody tr th {\n",
       "        vertical-align: top;\n",
       "    }\n",
       "\n",
       "    .dataframe thead th {\n",
       "        text-align: right;\n",
       "    }\n",
       "</style>\n",
       "<table border=\"1\" class=\"dataframe\">\n",
       "  <thead>\n",
       "    <tr style=\"text-align: right;\">\n",
       "      <th></th>\n",
       "      <th>xXg3LZLZDd</th>\n",
       "      <th>PC5TCQuXnrc</th>\n",
       "      <th>cxXv4Elj3wc</th>\n",
       "      <th>xXvzXga21wc</th>\n",
       "      <th>LBdUvcFB5h</th>\n",
       "      <th>1T0gqOZT0g</th>\n",
       "      <th>Tvcah31oWvc</th>\n",
       "      <th>L6UnyP7Unyd</th>\n",
       "      <th>ItWLR792Ed</th>\n",
       "      <th>TfVvX0wscib</th>\n",
       "      <th>...</th>\n",
       "      <th>TvzdxXSCdFd</th>\n",
       "      <th>5M7hF6EItzd</th>\n",
       "      <th>BI699EY08Ed</th>\n",
       "      <th>Vv4hNZDQZg</th>\n",
       "      <th>J69x5hNZvzd</th>\n",
       "      <th>VDdxcp4ob</th>\n",
       "      <th>daaUfibh</th>\n",
       "      <th>JeaxXvkyPf</th>\n",
       "      <th>MZ82EIB5hFd</th>\n",
       "      <th>GlGBIY0wAAd</th>\n",
       "    </tr>\n",
       "  </thead>\n",
       "  <tbody>\n",
       "    <tr>\n",
       "      <th>0</th>\n",
       "      <td>*Reversing the car* \"Ah, this takes me back\"</td>\n",
       "      <td>Where do you learn to make banana splits? At s...</td>\n",
       "      <td>Where do young cows eat lunch? In the calf-ate...</td>\n",
       "      <td>How do locomotives know where they're going? L...</td>\n",
       "      <td>Two peanuts were walking down the street. One ...</td>\n",
       "      <td>I thought my wife was joking when she said she...</td>\n",
       "      <td>What do you call a fashionable lawn statue wit...</td>\n",
       "      <td>“Doctor, I’ve broken my arm in several places”...</td>\n",
       "      <td>\"I'll call you later.\" Don't call me later, ca...</td>\n",
       "      <td>How do you know if there’s an elephant under y...</td>\n",
       "      <td>...</td>\n",
       "      <td>Someone broke into my house last night and sto...</td>\n",
       "      <td>My pet mouse 'Elvis' died last night. He was c...</td>\n",
       "      <td>Bad at golf? Join the club.</td>\n",
       "      <td>Why does Han Solo like gum? It's chewy!</td>\n",
       "      <td>I don't trust sushi, there's something fishy a...</td>\n",
       "      <td>How do you make Lady Gaga cry? Poker face.</td>\n",
       "      <td>Why was the big cat disqualified from the race...</td>\n",
       "      <td>Can February march? No, but April may.</td>\n",
       "      <td>Why did the melons plan a big wedding? Because...</td>\n",
       "      <td>How much does a hipster weigh? An instagram.</td>\n",
       "    </tr>\n",
       "  </tbody>\n",
       "</table>\n",
       "<p>1 rows × 92 columns</p>\n",
       "</div>"
      ],
      "text/plain": [
       "                                     xXg3LZLZDd  \\\n",
       "0  *Reversing the car* \"Ah, this takes me back\"   \n",
       "\n",
       "                                         PC5TCQuXnrc  \\\n",
       "0  Where do you learn to make banana splits? At s...   \n",
       "\n",
       "                                         cxXv4Elj3wc  \\\n",
       "0  Where do young cows eat lunch? In the calf-ate...   \n",
       "\n",
       "                                         xXvzXga21wc  \\\n",
       "0  How do locomotives know where they're going? L...   \n",
       "\n",
       "                                          LBdUvcFB5h  \\\n",
       "0  Two peanuts were walking down the street. One ...   \n",
       "\n",
       "                                          1T0gqOZT0g  \\\n",
       "0  I thought my wife was joking when she said she...   \n",
       "\n",
       "                                         Tvcah31oWvc  \\\n",
       "0  What do you call a fashionable lawn statue wit...   \n",
       "\n",
       "                                         L6UnyP7Unyd  \\\n",
       "0  “Doctor, I’ve broken my arm in several places”...   \n",
       "\n",
       "                                          ItWLR792Ed  \\\n",
       "0  \"I'll call you later.\" Don't call me later, ca...   \n",
       "\n",
       "                                         TfVvX0wscib  ...  \\\n",
       "0  How do you know if there’s an elephant under y...  ...   \n",
       "\n",
       "                                         TvzdxXSCdFd  \\\n",
       "0  Someone broke into my house last night and sto...   \n",
       "\n",
       "                                         5M7hF6EItzd  \\\n",
       "0  My pet mouse 'Elvis' died last night. He was c...   \n",
       "\n",
       "                   BI699EY08Ed                               Vv4hNZDQZg  \\\n",
       "0  Bad at golf? Join the club.  Why does Han Solo like gum? It's chewy!   \n",
       "\n",
       "                                         J69x5hNZvzd  \\\n",
       "0  I don't trust sushi, there's something fishy a...   \n",
       "\n",
       "                                     VDdxcp4ob  \\\n",
       "0  How do you make Lady Gaga cry? Poker face.    \n",
       "\n",
       "                                            daaUfibh  \\\n",
       "0  Why was the big cat disqualified from the race...   \n",
       "\n",
       "                               JeaxXvkyPf  \\\n",
       "0  Can February march? No, but April may.   \n",
       "\n",
       "                                         MZ82EIB5hFd  \\\n",
       "0  Why did the melons plan a big wedding? Because...   \n",
       "\n",
       "                                    GlGBIY0wAAd  \n",
       "0  How much does a hipster weigh? An instagram.  \n",
       "\n",
       "[1 rows x 92 columns]"
      ]
     },
     "execution_count": 12,
     "metadata": {},
     "output_type": "execute_result"
    }
   ],
   "source": [
    "pd.DataFrame(dadjoke_dict)"
   ]
  },
  {
   "cell_type": "code",
   "execution_count": 9,
   "metadata": {},
   "outputs": [],
   "source": []
  },
  {
   "cell_type": "code",
   "execution_count": null,
   "metadata": {},
   "outputs": [],
   "source": []
  },
  {
   "cell_type": "code",
   "execution_count": null,
   "metadata": {},
   "outputs": [],
   "source": []
  },
  {
   "cell_type": "code",
   "execution_count": null,
   "metadata": {},
   "outputs": [],
   "source": []
  },
  {
   "cell_type": "code",
   "execution_count": 28,
   "metadata": {},
   "outputs": [],
   "source": []
  },
  {
   "cell_type": "code",
   "execution_count": null,
   "metadata": {},
   "outputs": [],
   "source": []
  }
 ],
 "metadata": {
  "kernelspec": {
   "display_name": "Python 3",
   "language": "python",
   "name": "python3"
  },
  "language_info": {
   "codemirror_mode": {
    "name": "ipython",
    "version": 3
   },
   "file_extension": ".py",
   "mimetype": "text/x-python",
   "name": "python",
   "nbconvert_exporter": "python",
   "pygments_lexer": "ipython3",
   "version": "3.8.3"
  }
 },
 "nbformat": 4,
 "nbformat_minor": 4
}

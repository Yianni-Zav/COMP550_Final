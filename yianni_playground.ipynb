{
 "cells": [
  {
   "cell_type": "code",
   "execution_count": 68,
   "metadata": {},
   "outputs": [],
   "source": [
    "from dadjokes import Dadjoke\n",
    "import json\n",
    "import pandas as pd\n",
    "import numpy as np\n",
    "import re\n",
    "from copy import copy"
   ]
  },
  {
   "cell_type": "code",
   "execution_count": null,
   "metadata": {},
   "outputs": [],
   "source": []
  },
  {
   "cell_type": "code",
   "execution_count": 134,
   "metadata": {},
   "outputs": [
    {
     "data": {
      "text/plain": [
       "'[\\'A man is washing the car with his son. The son asks...... \"Dad, can’t you just use a sponge?\"\\']'"
      ]
     },
     "execution_count": 134,
     "metadata": {},
     "output_type": "execute_result"
    }
   ],
   "source": [
    "df = pd.read_csv('dad_jokes.csv')\n",
    "df['joke'].values[6]"
   ]
  },
  {
   "cell_type": "code",
   "execution_count": null,
   "metadata": {},
   "outputs": [],
   "source": []
  },
  {
   "cell_type": "code",
   "execution_count": 21,
   "metadata": {},
   "outputs": [],
   "source": [
    "df = pd.read_csv('headlines.csv')"
   ]
  },
  {
   "cell_type": "code",
   "execution_count": 23,
   "metadata": {},
   "outputs": [],
   "source": [
    "df.id = df.index"
   ]
  },
  {
   "cell_type": "code",
   "execution_count": 26,
   "metadata": {},
   "outputs": [
    {
     "data": {
      "text/plain": [
       "'\" Pence Is Trying to Control Republican Politics . Trump <Aides/> Are n’t Happy . \" An opportunist hard at work .'"
      ]
     },
     "execution_count": 26,
     "metadata": {},
     "output_type": "execute_result"
    }
   ],
   "source": [
    "df.iloc[0]['original1']"
   ]
  },
  {
   "cell_type": "code",
   "execution_count": null,
   "metadata": {},
   "outputs": [],
   "source": []
  },
  {
   "cell_type": "code",
   "execution_count": null,
   "metadata": {},
   "outputs": [],
   "source": []
  },
  {
   "cell_type": "code",
   "execution_count": 171,
   "metadata": {},
   "outputs": [],
   "source": [
    "df = pd.read_csv('complete.csv')"
   ]
  },
  {
   "cell_type": "code",
   "execution_count": 172,
   "metadata": {},
   "outputs": [
    {
     "data": {
      "text/html": [
       "<div>\n",
       "<style scoped>\n",
       "    .dataframe tbody tr th:only-of-type {\n",
       "        vertical-align: middle;\n",
       "    }\n",
       "\n",
       "    .dataframe tbody tr th {\n",
       "        vertical-align: top;\n",
       "    }\n",
       "\n",
       "    .dataframe thead th {\n",
       "        text-align: right;\n",
       "    }\n",
       "</style>\n",
       "<table border=\"1\" class=\"dataframe\">\n",
       "  <thead>\n",
       "    <tr style=\"text-align: right;\">\n",
       "      <th></th>\n",
       "      <th>original1</th>\n",
       "      <th>edit1</th>\n",
       "    </tr>\n",
       "  </thead>\n",
       "  <tbody>\n",
       "    <tr>\n",
       "      <th>0</th>\n",
       "      <td>\" Pence Is Trying to Control Republican Politi...</td>\n",
       "      <td>barbers</td>\n",
       "    </tr>\n",
       "    <tr>\n",
       "      <th>1</th>\n",
       "      <td>\" Pence Is Trying to Control Republican Politi...</td>\n",
       "      <td>barbers</td>\n",
       "    </tr>\n",
       "    <tr>\n",
       "      <th>2</th>\n",
       "      <td>\" Pence Is Trying to &lt;Control/&gt; Republican Pol...</td>\n",
       "      <td>Bungle</td>\n",
       "    </tr>\n",
       "    <tr>\n",
       "      <th>3</th>\n",
       "      <td>\" There is no Man Behind the Curtain , \" says ...</td>\n",
       "      <td>elephant</td>\n",
       "    </tr>\n",
       "    <tr>\n",
       "      <th>4</th>\n",
       "      <td>\" There is no Man Behind the Curtain , \" says ...</td>\n",
       "      <td>elephant</td>\n",
       "    </tr>\n",
       "    <tr>\n",
       "      <th>...</th>\n",
       "      <td>...</td>\n",
       "      <td>...</td>\n",
       "    </tr>\n",
       "    <tr>\n",
       "      <th>2955</th>\n",
       "      <td>“ The fish rots from the head ” : a historian ...</td>\n",
       "      <td>fish</td>\n",
       "    </tr>\n",
       "    <tr>\n",
       "      <th>2956</th>\n",
       "      <td>“ The fish rots from the head ” : a &lt;historian...</td>\n",
       "      <td>fishmonger</td>\n",
       "    </tr>\n",
       "    <tr>\n",
       "      <th>2957</th>\n",
       "      <td>“ Trump ’s &lt;problem/&gt; child ” : Mark Levin , A...</td>\n",
       "      <td>chubby</td>\n",
       "    </tr>\n",
       "    <tr>\n",
       "      <th>2958</th>\n",
       "      <td>“ Trump ’s &lt;problem/&gt; child ” : Mark Levin , A...</td>\n",
       "      <td>chubby</td>\n",
       "    </tr>\n",
       "    <tr>\n",
       "      <th>2959</th>\n",
       "      <td>“ Trump ’s problem child ” : Mark Levin , Alex...</td>\n",
       "      <td>enslaving</td>\n",
       "    </tr>\n",
       "  </tbody>\n",
       "</table>\n",
       "<p>2960 rows × 2 columns</p>\n",
       "</div>"
      ],
      "text/plain": [
       "                                              original1       edit1\n",
       "0     \" Pence Is Trying to Control Republican Politi...     barbers\n",
       "1     \" Pence Is Trying to Control Republican Politi...     barbers\n",
       "2     \" Pence Is Trying to <Control/> Republican Pol...      Bungle\n",
       "3     \" There is no Man Behind the Curtain , \" says ...    elephant\n",
       "4     \" There is no Man Behind the Curtain , \" says ...    elephant\n",
       "...                                                 ...         ...\n",
       "2955  “ The fish rots from the head ” : a historian ...        fish\n",
       "2956  “ The fish rots from the head ” : a <historian...  fishmonger\n",
       "2957  “ Trump ’s <problem/> child ” : Mark Levin , A...      chubby\n",
       "2958  “ Trump ’s <problem/> child ” : Mark Levin , A...      chubby\n",
       "2959  “ Trump ’s problem child ” : Mark Levin , Alex...   enslaving\n",
       "\n",
       "[2960 rows x 2 columns]"
      ]
     },
     "execution_count": 172,
     "metadata": {},
     "output_type": "execute_result"
    }
   ],
   "source": [
    "df"
   ]
  },
  {
   "cell_type": "code",
   "execution_count": 173,
   "metadata": {},
   "outputs": [],
   "source": [
    "def replace_word_in_brackets(row):\n",
    "    # The pattern finds a word within angle brackets\n",
    "    pattern = r'<(.*?)>'\n",
    "    # Replace the found word with the word in 'edit1'\n",
    "    return re.sub(pattern, row['edit1'], row['original1'])\n",
    "\n",
    "# Apply the function to each row\n",
    "df['modified'] = df.apply(replace_word_in_brackets, axis=1)"
   ]
  },
  {
   "cell_type": "code",
   "execution_count": 177,
   "metadata": {},
   "outputs": [],
   "source": [
    "df['id'] = df.index"
   ]
  },
  {
   "cell_type": "code",
   "execution_count": 181,
   "metadata": {},
   "outputs": [],
   "source": [
    "df['id modified'.split()].to_csv('complete.csv')"
   ]
  },
  {
   "cell_type": "code",
   "execution_count": 35,
   "metadata": {},
   "outputs": [
    {
     "data": {
      "text/plain": [
       "'\" Pence Is Trying to Control Republican Politics . Trump <Aides/> Are n’t Happy . \" An opportunist hard at work .'"
      ]
     },
     "execution_count": 35,
     "metadata": {},
     "output_type": "execute_result"
    }
   ],
   "source": [
    "df.iloc[0]['original1']"
   ]
  },
  {
   "cell_type": "code",
   "execution_count": 34,
   "metadata": {},
   "outputs": [
    {
     "data": {
      "text/plain": [
       "'\" Pence Is Trying to Control Republican Politics . Trump barbers Are n’t Happy . \" An opportunist hard at work .'"
      ]
     },
     "execution_count": 34,
     "metadata": {},
     "output_type": "execute_result"
    }
   ],
   "source": [
    "df.iloc[0]['modified']"
   ]
  },
  {
   "cell_type": "code",
   "execution_count": 37,
   "metadata": {},
   "outputs": [],
   "source": [
    "df['id modified'.split()].to_csv('headlines.csv')"
   ]
  },
  {
   "cell_type": "code",
   "execution_count": null,
   "metadata": {},
   "outputs": [],
   "source": []
  },
  {
   "cell_type": "code",
   "execution_count": null,
   "metadata": {},
   "outputs": [],
   "source": []
  },
  {
   "cell_type": "code",
   "execution_count": null,
   "metadata": {},
   "outputs": [],
   "source": []
  },
  {
   "cell_type": "code",
   "execution_count": 88,
   "metadata": {},
   "outputs": [
    {
     "name": "stdout",
     "output_type": "stream",
     "text": [
      "0\n",
      "1\n"
     ]
    }
   ],
   "source": [
    "dadjoke_dict = {}\n",
    "for i in range(200):\n",
    "    print()\n",
    "    dadjoke = Dadjoke()\n",
    "    dadjoke_dict[dadjoke.id] = dadjoke.joke\n"
   ]
  },
  {
   "cell_type": "code",
   "execution_count": 92,
   "metadata": {},
   "outputs": [],
   "source": [
    "df = pd.DataFrame([{'id':id_,'joke':joke}for id_, joke in dadjoke_dict.items()])\n",
    "df.to_csv('dad_jokes.csv')"
   ]
  },
  {
   "cell_type": "code",
   "execution_count": 83,
   "metadata": {},
   "outputs": [],
   "source": [
    "cp = copy(dadjoke_dict)"
   ]
  },
  {
   "cell_type": "code",
   "execution_count": 89,
   "metadata": {},
   "outputs": [],
   "source": [
    "for key in set(cp):\n",
    "    dadjoke_dict[key] = [dadjoke_dict.get(key,cp[key])]"
   ]
  },
  {
   "cell_type": "code",
   "execution_count": null,
   "metadata": {},
   "outputs": [],
   "source": []
  },
  {
   "cell_type": "code",
   "execution_count": 114,
   "metadata": {},
   "outputs": [],
   "source": [
    "df.to_csv('dad_jokes.csv')"
   ]
  },
  {
   "cell_type": "code",
   "execution_count": 110,
   "metadata": {},
   "outputs": [],
   "source": [
    "cols = 'funny irony exaggeration wordplay deprecation'.split()\n",
    "for i in range(5):\n",
    "    df[cols[i]] = [int(str(num)[i]) for num in grades]"
   ]
  },
  {
   "cell_type": "code",
   "execution_count": 113,
   "metadata": {},
   "outputs": [],
   "source": [
    "df = df.drop(columns = ['f','u','n','y'])"
   ]
  },
  {
   "cell_type": "code",
   "execution_count": null,
   "metadata": {},
   "outputs": [],
   "source": []
  },
  {
   "cell_type": "code",
   "execution_count": 117,
   "metadata": {},
   "outputs": [
    {
     "data": {
      "text/plain": [
       "2    187\n",
       "1     33\n",
       "3     30\n",
       "Name: funny, dtype: int64"
      ]
     },
     "execution_count": 117,
     "metadata": {},
     "output_type": "execute_result"
    }
   ],
   "source": [
    "df.funny.value_counts()"
   ]
  },
  {
   "cell_type": "code",
   "execution_count": 126,
   "metadata": {},
   "outputs": [
    {
     "name": "stdout",
     "output_type": "stream",
     "text": [
      "[['Have you heard the story about the magic tractor? It drove down the road and turned into a field.']]\n",
      "[[['A termite walks into a bar and asks “Is the bar tender here?”']]]\n",
      "[[['This is my step ladder. I never knew my real ladder.']]]\n",
      "[[['I fear for the calendar, its days are numbered.\\n']]]\n",
      "[['A quick shoutout to all of the sidewalks out there... Thanks for keeping me off the streets.']]\n",
      "['Did you hear the joke about the wandering nun? She was a roman catholic.']\n",
      "[[['It\\'s been months since I bought the book \"how to scam people online\". It still hasn\\'t turned up.']]]\n",
      "['Why did Mozart kill all his chickens?\\r\\nBecause when he asked them who the best composer was, they\\'d all say \"Bach bach bach!\"\\r\\n']\n",
      "[[['How much does a hipster weigh? An instagram.']]]\n",
      "['When I left school, I passed every one of my exams with the exception of Greek Mythology. It always was my achilles elbow']\n",
      "[[\"My new thesaurus is terrible. In fact, it's so bad, I'd say it's terrible.\"]]\n",
      "[[\"Americans can't switch from pounds to kilograms overnight. That would cause mass confusion.\"]]\n",
      "[\"Every morning when I go out, I get hit by bicycle. Every morning!  It's a vicious cycle.\"]\n",
      "[['What do you call a troublesome Canadian high schooler? A poutine.']]\n",
      "[[['When people are sad, I sometimes let them colour in my tattoos. Sometimes all they need is a shoulder to crayon.']]]\n",
      "['I wear a stethoscope so that in a medical emergency I can teach people a valuable lesson about assumptions.']\n",
      "[[[\"I ordered a chicken and an egg from Amazon. I'll let you know.\"]]]\n",
      "[['I have the heart of a lion... and a lifetime ban from the San Diego Zoo.']]\n",
      "['Why are giraffes so slow to apologize? Because it takes them a long time to swallow their pride.']\n",
      "[['I invented a new word! Plagiarism!']]\n",
      "['What do you call a crowd of chess players bragging about their wins in a hotel lobby? Chess nuts boasting in an open foyer.']\n",
      "[[[\"Have you heard about corduroy pillows?  They're making headlines!\"]]]\n",
      "[[['*Reversing the car* \"Ah, this takes me back\"']]]\n",
      "[[[\"Which is the fastest growing city in the world? Dublin'\"]]]\n",
      "[[['Which side of the chicken has more feathers? The outside.']]]\n",
      "['Why can\\'t you use \"Beef stew\" as a password? Because it\\'s not stroganoff.']\n",
      "[[\"Doctor: Do you want to hear the good news or the bad news?\\r\\nPatient: Good news please.\\r\\nDoctor: we're naming a disease after you.\"]]\n",
      "[[['What’s E.T. short for? He’s only got little legs.']]]\n",
      "[[['Just watched a documentary about beavers… It was the best damn program I’ve ever seen.']]]\n",
      "[[['Yesterday I confused the words \"jacuzzi\" and \"yakuza\". Now I\\'m in hot water with the Japanese mafia.']]]\n"
     ]
    }
   ],
   "source": [
    "for index,row in df.iterrows():\n",
    "    if row['funny'] == 3:\n",
    "        print(row['joke'])\n"
   ]
  },
  {
   "cell_type": "code",
   "execution_count": 97,
   "metadata": {},
   "outputs": [
    {
     "data": {
      "text/html": [
       "<div>\n",
       "<style scoped>\n",
       "    .dataframe tbody tr th:only-of-type {\n",
       "        vertical-align: middle;\n",
       "    }\n",
       "\n",
       "    .dataframe tbody tr th {\n",
       "        vertical-align: top;\n",
       "    }\n",
       "\n",
       "    .dataframe thead th {\n",
       "        text-align: right;\n",
       "    }\n",
       "</style>\n",
       "<table border=\"1\" class=\"dataframe\">\n",
       "  <thead>\n",
       "    <tr style=\"text-align: right;\">\n",
       "      <th></th>\n",
       "      <th>id</th>\n",
       "      <th>joke</th>\n",
       "    </tr>\n",
       "  </thead>\n",
       "  <tbody>\n",
       "    <tr>\n",
       "      <th>0</th>\n",
       "      <td>B5h311TS7h</td>\n",
       "      <td>[I couldn't figure out how the seat belt worke...</td>\n",
       "    </tr>\n",
       "    <tr>\n",
       "      <th>1</th>\n",
       "      <td>2o4MZ8pjNuc</td>\n",
       "      <td>It was so cold yesterday my computer froze. My...</td>\n",
       "    </tr>\n",
       "    <tr>\n",
       "      <th>2</th>\n",
       "      <td>mGlbFtk3Tvc</td>\n",
       "      <td>[[Why did the m&amp;m go to school? Because it wan...</td>\n",
       "    </tr>\n",
       "    <tr>\n",
       "      <th>3</th>\n",
       "      <td>1wkqrcNCljb</td>\n",
       "      <td>[[Did you know that protons have mass? I didn'...</td>\n",
       "    </tr>\n",
       "    <tr>\n",
       "      <th>4</th>\n",
       "      <td>trc2EYT0ob</td>\n",
       "      <td>[[The invention of the wheel was what got thin...</td>\n",
       "    </tr>\n",
       "    <tr>\n",
       "      <th>...</th>\n",
       "      <td>...</td>\n",
       "      <td>...</td>\n",
       "    </tr>\n",
       "    <tr>\n",
       "      <th>245</th>\n",
       "      <td>SnOf2gqjiqc</td>\n",
       "      <td>[Why are pirates called pirates? Because they ...</td>\n",
       "    </tr>\n",
       "    <tr>\n",
       "      <th>246</th>\n",
       "      <td>DtWSnydN7h</td>\n",
       "      <td>[[It's difficult to say what my wife does, she...</td>\n",
       "    </tr>\n",
       "    <tr>\n",
       "      <th>247</th>\n",
       "      <td>J69x5hNZvzd</td>\n",
       "      <td>[[I don't trust sushi, there's something fishy...</td>\n",
       "    </tr>\n",
       "    <tr>\n",
       "      <th>248</th>\n",
       "      <td>NucUfVvXLBd</td>\n",
       "      <td>[[[What did the hat say to the scarf?\\r\\nYou c...</td>\n",
       "    </tr>\n",
       "    <tr>\n",
       "      <th>249</th>\n",
       "      <td>7USvkbaahFd</td>\n",
       "      <td>[[[What do you call a boy who stopped digging ...</td>\n",
       "    </tr>\n",
       "  </tbody>\n",
       "</table>\n",
       "<p>250 rows × 2 columns</p>\n",
       "</div>"
      ],
      "text/plain": [
       "              id                                               joke\n",
       "0     B5h311TS7h  [I couldn't figure out how the seat belt worke...\n",
       "1    2o4MZ8pjNuc  It was so cold yesterday my computer froze. My...\n",
       "2    mGlbFtk3Tvc  [[Why did the m&m go to school? Because it wan...\n",
       "3    1wkqrcNCljb  [[Did you know that protons have mass? I didn'...\n",
       "4     trc2EYT0ob  [[The invention of the wheel was what got thin...\n",
       "..           ...                                                ...\n",
       "245  SnOf2gqjiqc  [Why are pirates called pirates? Because they ...\n",
       "246   DtWSnydN7h  [[It's difficult to say what my wife does, she...\n",
       "247  J69x5hNZvzd  [[I don't trust sushi, there's something fishy...\n",
       "248  NucUfVvXLBd  [[[What did the hat say to the scarf?\\r\\nYou c...\n",
       "249  7USvkbaahFd  [[[What do you call a boy who stopped digging ...\n",
       "\n",
       "[250 rows x 2 columns]"
      ]
     },
     "execution_count": 97,
     "metadata": {},
     "output_type": "execute_result"
    }
   ],
   "source": [
    "df"
   ]
  },
  {
   "cell_type": "code",
   "execution_count": null,
   "metadata": {},
   "outputs": [],
   "source": []
  },
  {
   "cell_type": "code",
   "execution_count": 246,
   "metadata": {},
   "outputs": [],
   "source": [
    "df = pd.read_csv('funny.csv')\n",
    "\n",
    "# Function to replace word in brackets with 'edit1' value\n",
    "def replace_word_in_brackets(row):\n",
    "    # The pattern finds a word within angle brackets\n",
    "    pattern = r'<(.*?)>'\n",
    "    # Replace the found word with the word in 'edit1'\n",
    "    return re.sub(pattern, row['edit1'], row['original1'])\n",
    "\n",
    "# Apply the function to each row\n",
    "df['modified'] = df.apply(replace_word_in_brackets, axis=1)"
   ]
  },
  {
   "cell_type": "code",
   "execution_count": 247,
   "metadata": {},
   "outputs": [],
   "source": [
    "df.to_csv('funny.csv')"
   ]
  },
  {
   "cell_type": "code",
   "execution_count": 254,
   "metadata": {},
   "outputs": [],
   "source": [
    "pd.set_option('display.max_colwidth', None)"
   ]
  },
  {
   "cell_type": "code",
   "execution_count": 248,
   "metadata": {},
   "outputs": [],
   "source": [
    "df = pd.read_csv('dad_jokes.csv')"
   ]
  },
  {
   "cell_type": "code",
   "execution_count": 265,
   "metadata": {},
   "outputs": [
    {
     "data": {
      "text/plain": [
       "240                                       [['What do you call a guy lying on your doorstep? Matt.']]\n",
       "241                                                                  ['Bad at golf? Join the club.']\n",
       "242                                [[[\"If at first you don't succeed, sky diving is not for you!\"]]]\n",
       "243                                                              ['Whiteboards ... are remarkable.']\n",
       "244                         [['what do you call a dog that can do magic tricks? a labracadabrador']]\n",
       "245                                           ['Why are pirates called pirates? Because they arrr!']\n",
       "246            [[\"It's difficult to say what my wife does, she sells sea shells by the sea shore.\"]]\n",
       "247                                     [[\"I don't trust sushi, there's something fishy about it.\"]]\n",
       "248    [[[\"What did the hat say to the scarf?\\r\\nYou can hang around. I'll just go on ahead.\\r\\n\"]]]\n",
       "Name: joke, dtype: object"
      ]
     },
     "execution_count": 265,
     "metadata": {},
     "output_type": "execute_result"
    }
   ],
   "source": []
  },
  {
   "cell_type": "code",
   "execution_count": null,
   "metadata": {},
   "outputs": [],
   "source": []
  },
  {
   "cell_type": "code",
   "execution_count": null,
   "metadata": {},
   "outputs": [],
   "source": [
    "# irony, exagguration, wordplay, deprication"
   ]
  },
  {
   "cell_type": "code",
   "execution_count": null,
   "metadata": {},
   "outputs": [],
   "source": [
    "grades = []"
   ]
  },
  {
   "cell_type": "code",
   "execution_count": 106,
   "metadata": {},
   "outputs": [
    {
     "name": "stdout",
     "output_type": "stream",
     "text": [
      "Joke #238: [[['What did the grape do when he got stepped on? He let out a little wine.']]]\n",
      "grade: 20010\n",
      "Joke #239: [['They laughed when I said I wanted to be a comedian – they’re not laughing now.']]\n",
      "grade: 20010\n",
      "Joke #240: [\"Why can't eggs have love? They will break up too soon.\"]\n",
      "grade: 20010\n",
      "Joke #241: [['What do you call a guy lying on your doorstep? Matt.']]\n",
      "grade: 20010\n",
      "Joke #242: ['Bad at golf? Join the club.']\n",
      "grade: 20010\n",
      "Joke #243: [[[\"If at first you don't succeed, sky diving is not for you!\"]]]\n",
      "grade: 20010\n",
      "Joke #244: ['Whiteboards ... are remarkable.']\n",
      "grade: 20010\n",
      "Joke #245: [['what do you call a dog that can do magic tricks? a labracadabrador']]\n",
      "grade: 20010\n",
      "Joke #246: ['Why are pirates called pirates? Because they arrr!']\n",
      "grade: 20010\n",
      "Joke #247: [[\"It's difficult to say what my wife does, she sells sea shells by the sea shore.\"]]\n",
      "grade: 20010\n",
      "Joke #248: [[\"I don't trust sushi, there's something fishy about it.\"]]\n",
      "grade: 20010\n",
      "Joke #249: [[[\"What did the hat say to the scarf?\\r\\nYou can hang around. I'll just go on ahead.\\r\\n\"]]]\n",
      "grade: 20010\n",
      "Joke #250: [[['What do you call a boy who stopped digging holes? Douglas.']]]\n",
      "grade: 20010\n"
     ]
    }
   ],
   "source": [
    "\n",
    "def grade_joke():\n",
    "    for index, row in df.iterrows():\n",
    "        if index < len(grades):\n",
    "            continue\n",
    "        print(f\"Joke #{index + 1}: {row['joke']}\")\n",
    " \n",
    "        grade = int(input(\"grade: \"))\n",
    "        \n",
    "        grades.append(grade)\n",
    "    \n",
    "    return grades\n",
    "\n",
    "grades = grade_joke()"
   ]
  },
  {
   "cell_type": "code",
   "execution_count": 276,
   "metadata": {},
   "outputs": [],
   "source": [
    "non_jokes = \"\"\"Why is the night dark? Because the sun is on the other side of the Earth.\n",
    "Why is a spider web sticky? Because it traps insects.\n",
    "Why is an apple red? Because of its skin pigments.\n",
    "Why is a frog able to jump? Because of its powerful leg muscles.\n",
    "Why is an owl silent in flight? Because of its feather structure.\n",
    "Why is a rose thorny? Because thorns protect it from predators.\n",
    "Why is a snake long and slender? Because of its vertebral structure.\n",
    "Why is a peacock's tail colorful? Because it's used for mating displays.\n",
    "Why is a turtle slow? Because it carries a heavy shell.\n",
    "Why is a bat nocturnal? Because it hunts at night.\n",
    "Why is a penguin a good swimmer? Because of its wing shape.\n",
    "Why is a bear strong? Because of its muscular build.\n",
    "Why is a zebra striped? Because stripes help camouflage.\n",
    "Why is an elephant large? Because of its genetic makeup.\n",
    "Why is a giraffe tall? Because it needs to reach high leaves.\n",
    "Why is a squirrel nimble? Because it needs to climb trees.\n",
    "Why is a rabbit quick? Because speed helps it escape predators.\n",
    "Why is a camel able to survive in the desert? Because it stores fat in its humps.\n",
    "Why is a whale big? Because of its aquatic lifestyle.\n",
    "Why is a dolphin intelligent? Because of its complex brain.\n",
    "Why is a butterfly colorful? Because colors deter predators.\n",
    "Why is an ant strong for its size? Because of its muscular structure.\n",
    "Why is a hummingbird able to hover? Because of its rapid wing movement.\n",
    "Why is a lizard able to regenerate its tail? Because of its cellular structure.\n",
    "Why is a mosquito annoying? Because it feeds on blood.\n",
    "Why is a firefly able to glow? Because of a chemical reaction.\n",
    "Why is a seagull able to fly over the sea? Because of its wing span and strength.\n",
    "Why is a kangaroo pouch useful? Because it protects its young.\n",
    "Why is a cheetah fast? Because of its streamlined body.\n",
    "Why is a wolf pack cooperative? Because teamwork aids in hunting.\n",
    "Why is a parrot able to mimic sounds? Because of its vocal cords.\n",
    "Why is a crocodile tough-skinned? Because it's protective armor.\n",
    "Why is a beaver good at building? Because it instinctively constructs dams.\n",
    "Why is a lemur's tail long? Because it helps in balance.\n",
    "Why is a rhino's skin thick? Because it provides protection.\n",
    "Why is a hippopotamus amphibious? Because it lives in both water and land.\n",
    "Why is a jellyfish transparent? Because it has no bones or hard parts.\n",
    "Why is a vulture bald? Because it prevents feather contamination while feeding.\n",
    "Why is a porcupine spiky? Because quills defend against predators.\n",
    "Why is a chameleon able to change color? Because it adapts to its environment.\n",
    "Why is a snail slow? Because it moves using a muscular foot.\n",
    "Why is a termite good at chewing wood? Because of its strong jaws.\n",
    "Why is a walrus tusky? Because tusks help in climbing and fighting.\n",
    "Why is an octopus able to squeeze into tight spaces? Because of its soft body.\n",
    "Why is a hedgehog prickly? Because spines provide defense.\n",
    "Why is a seahorse unique in shape? Because it mimics seaweed.\n",
    "Why is an axolotl able to regenerate? Because of its unique cells.\n",
    "Why is a flamingo pink? Because of its diet.\n",
    "Why is a platypus unusual? Because it's a mammal that lays eggs.\n",
    "Why is the Earth's core hot? Because of radioactive decay and residual heat.\n",
    "Why is a magnet attractive? Because it creates a magnetic field.\n",
    "Why is a clock useful? Because it measures time.\n",
    "Why is a compass helpful? Because it shows magnetic north.\n",
    "Why is a book informative? Because it contains written knowledge.\n",
    "Why is a pen mightier than a sword? Because it can influence ideas.\n",
    "Why is a bridge strong? Because it's engineered for load-bearing.\n",
    "Why is a car fast? Because of its engine power.\n",
    "Why is a train long? Because it carries multiple cars.\n",
    "Why is a plane able to fly? Because of its aerodynamic design.\n",
    "Why is a ship buoyant? Because it displaces enough water.\n",
    "Why is a bicycle eco-friendly? Because it doesn't use fuel.\n",
    "Why is a tree important for the environment? Because it produces oxygen.\n",
    "Why is a camera useful? Because it captures images.\n",
    "Why is a telescope powerful? Because it magnifies distant objects.\n",
    "Why is a microscope insightful? Because it magnifies small things.\n",
    "Why is a computer essential in modern times? Because it processes and stores information.\n",
    "Why is a smartphone smart? Because it performs multiple functions.\n",
    "Why is a robot efficient? Because it automates tasks.\n",
    "Why is a solar panel green energy? Because it harnesses sunlight.\n",
    "Why is a battery rechargeable? Because it stores electrical energy.\n",
    "Why is a light bulb bright? Because it emits light when powered.\n",
    "Why is a refrigerator cold? Because it removes heat.\n",
    "Why is a heater warm? Because it generates heat.\n",
    "Why is a microwave fast in cooking? Because it uses radiation to heat food.\n",
    "Why is a piano melodic? Because it produces harmonic sounds.\n",
    "Why is a drum rhythmic? Because it provides a beat.\n",
    "Why is a guitar popular? Because it's versatile in music.\n",
    "Why is a violin sensitive? Because it responds to subtle movements.\n",
    "Why is a saxophone expressive? Because it produces a wide range of sounds.\n",
    "Why is a flute light? Because it's made of thin material.\n",
    "Why is a trumpet loud? Because it amplifies the breath sound.\n",
    "Why is a painting expressive? Because it conveys emotions visually.\n",
    "Why is a sculpture three-dimensional? Because it's carved or molded.\n",
    "Why is a photograph memorable? Because it captures a moment.\n",
    "Why is a dance lively? Because it's a form of physical expression.\n",
    "Why is a poem deep? Because it conveys feelings through words.\n",
    "Why is a novel immersive? Because it creates a detailed story.\n",
    "Why is a play dramatic? Because it portrays life through acting.\n",
    "Why is a film engaging? Because it combines visual and auditory storytelling.\n",
    "Why is an opera grand? Because it combines music, drama, and visuals.\n",
    "Why is a ballet elegant? Because it's a form of graceful dance.\n",
    "Why is a museum educational? Because it displays historical and cultural artifacts.\n",
    "Why is a library valuable? Because it houses a collection of knowledge.\n",
    "Why is a park refreshing? Because it offers natural scenery.\n",
    "Why is a zoo informative? Because it showcases various animals.\n",
    "Why is an aquarium fascinating? Because it displays aquatic life.\n",
    "Why is a festival fun? Because it celebrates with activities and ceremonies.\n",
    "Why is a holiday relaxing? Because it's a break from work.\n",
    "Why is a marathon challenging? Because it requires endurance and strength.\"\"\".split('\\n')"
   ]
  },
  {
   "cell_type": "code",
   "execution_count": 278,
   "metadata": {},
   "outputs": [],
   "source": [
    "df = pd.DataFrame(non_jokes)"
   ]
  },
  {
   "cell_type": "code",
   "execution_count": 287,
   "metadata": {},
   "outputs": [],
   "source": [
    "columns = ['funny', 'irony', 'exaggeration', 'wordplay', 'deprecation']\n",
    "\n",
    "# Add new columns to the DataFrame, initializing with default values\n",
    "for col in columns:\n",
    "    df[col] = 0  # or another default value as needed\n",
    "\n",
    "# Now you can safely assign new values to these columns\n",
    "df[columns] = [[1, 0, 0, 0, 0] for _ in range(len(df))]"
   ]
  },
  {
   "cell_type": "code",
   "execution_count": 289,
   "metadata": {},
   "outputs": [],
   "source": [
    "df.to_csv('nonjokes.csv')"
   ]
  },
  {
   "cell_type": "code",
   "execution_count": 294,
   "metadata": {},
   "outputs": [
    {
     "data": {
      "text/plain": [
       "60                                  Why is a bicycle eco-friendly? Because it doesn't use fuel.\n",
       "61                     Why is a tree important for the environment? Because it produces oxygen.\n",
       "62                                          Why is a camera useful? Because it captures images.\n",
       "63                           Why is a telescope powerful? Because it magnifies distant objects.\n",
       "64                           Why is a microscope insightful? Because it magnifies small things.\n",
       "65    Why is a computer essential in modern times? Because it processes and stores information.\n",
       "66                           Why is a smartphone smart? Because it performs multiple functions.\n",
       "67                                        Why is a robot efficient? Because it automates tasks.\n",
       "68                            Why is a solar panel green energy? Because it harnesses sunlight.\n",
       "69                          Why is a battery rechargeable? Because it stores electrical energy.\n",
       "70                             Why is a light bulb bright? Because it emits light when powered.\n",
       "71                                         Why is a refrigerator cold? Because it removes heat.\n",
       "72                                             Why is a heater warm? Because it generates heat.\n",
       "73                  Why is a microwave fast in cooking? Because it uses radiation to heat food.\n",
       "74                                 Why is a piano melodic? Because it produces harmonic sounds.\n",
       "75                                          Why is a drum rhythmic? Because it provides a beat.\n",
       "76                                    Why is a guitar popular? Because it's versatile in music.\n",
       "77                          Why is a violin sensitive? Because it responds to subtle movements.\n",
       "78                   Why is a saxophone expressive? Because it produces a wide range of sounds.\n",
       "79                                    Why is a flute light? Because it's made of thin material.\n",
       "80                                Why is a trumpet loud? Because it amplifies the breath sound.\n",
       "81                          Why is a painting expressive? Because it conveys emotions visually.\n",
       "82                         Why is a sculpture three-dimensional? Because it's carved or molded.\n",
       "83                                 Why is a photograph memorable? Because it captures a moment.\n",
       "84                           Why is a dance lively? Because it's a form of physical expression.\n",
       "85                               Why is a poem deep? Because it conveys feelings through words.\n",
       "86                               Why is a novel immersive? Because it creates a detailed story.\n",
       "87                             Why is a play dramatic? Because it portrays life through acting.\n",
       "88                Why is a film engaging? Because it combines visual and auditory storytelling.\n",
       "89                        Why is an opera grand? Because it combines music, drama, and visuals.\n",
       "90                              Why is a ballet elegant? Because it's a form of graceful dance.\n",
       "91          Why is a museum educational? Because it displays historical and cultural artifacts.\n",
       "92                      Why is a library valuable? Because it houses a collection of knowledge.\n",
       "93                                 Why is a park refreshing? Because it offers natural scenery.\n",
       "94                              Why is a zoo informative? Because it showcases various animals.\n",
       "95                            Why is an aquarium fascinating? Because it displays aquatic life.\n",
       "96                 Why is a festival fun? Because it celebrates with activities and ceremonies.\n",
       "97                                   Why is a holiday relaxing? Because it's a break from work.\n",
       "98                   Why is a marathon challenging? Because it requires endurance and strength.\n",
       "Name: joke, dtype: object"
      ]
     },
     "execution_count": 294,
     "metadata": {},
     "output_type": "execute_result"
    }
   ],
   "source": [
    "df['joke'].iloc[60:]"
   ]
  },
  {
   "cell_type": "code",
   "execution_count": null,
   "metadata": {},
   "outputs": [],
   "source": []
  },
  {
   "cell_type": "code",
   "execution_count": null,
   "metadata": {},
   "outputs": [],
   "source": []
  },
  {
   "cell_type": "code",
   "execution_count": 266,
   "metadata": {},
   "outputs": [],
   "source": [
    "df = pd.read_csv('exaggeration_jokes.csv')"
   ]
  },
  {
   "cell_type": "code",
   "execution_count": 275,
   "metadata": {},
   "outputs": [
    {
     "data": {
      "text/plain": [
       "60                              Hagi could open a tin of beans with his left foot.\n",
       "61    If I asked for a cup of coffee, someone would search for the double meaning.\n",
       "62                            He is so stupid… mind readers charge him half price.\n",
       "63                              It is so hot… I saw two trees fighting over a dog.\n",
       "64               It was so cold… we didn't clean the house – we just defrosted it.\n",
       "65                              She is so fat… she can't even jump to conclusions.\n",
       "66                It was so cold… the kids at school were using flannel notebooks.\n",
       "67                                      She is so old… she used to baby-sit Jesus.\n",
       "68                                It is so hot… I saw a squirrel fanning his nuts.\n",
       "69                                He is so ugly… he has to sneak up on his mirror.\n",
       "70       He is so fat… when he steps on a scale, it reads \"one at a time, please.\"\n",
       "71                                     The report of my death was an exaggeration.\n",
       "Name: joke, dtype: object"
      ]
     },
     "execution_count": 275,
     "metadata": {},
     "output_type": "execute_result"
    }
   ],
   "source": [
    "df['joke'].iloc[60:]"
   ]
  },
  {
   "cell_type": "code",
   "execution_count": 186,
   "metadata": {},
   "outputs": [],
   "source": [
    "df['id'] = df.index"
   ]
  },
  {
   "cell_type": "code",
   "execution_count": 192,
   "metadata": {},
   "outputs": [],
   "source": [
    "df['id joke'.split()].to_csv('exaggeration_jokes.csv')"
   ]
  },
  {
   "cell_type": "code",
   "execution_count": 193,
   "metadata": {},
   "outputs": [
    {
     "data": {
      "text/html": [
       "<div>\n",
       "<style scoped>\n",
       "    .dataframe tbody tr th:only-of-type {\n",
       "        vertical-align: middle;\n",
       "    }\n",
       "\n",
       "    .dataframe tbody tr th {\n",
       "        vertical-align: top;\n",
       "    }\n",
       "\n",
       "    .dataframe thead th {\n",
       "        text-align: right;\n",
       "    }\n",
       "</style>\n",
       "<table border=\"1\" class=\"dataframe\">\n",
       "  <thead>\n",
       "    <tr style=\"text-align: right;\">\n",
       "      <th></th>\n",
       "      <th>joke</th>\n",
       "      <th>id</th>\n",
       "    </tr>\n",
       "  </thead>\n",
       "  <tbody>\n",
       "    <tr>\n",
       "      <th>0</th>\n",
       "      <td>She is so stupid… she stared at an orange juic...</td>\n",
       "      <td>0</td>\n",
       "    </tr>\n",
       "    <tr>\n",
       "      <th>1</th>\n",
       "      <td>It is so hot… the trees are whistling for the ...</td>\n",
       "      <td>1</td>\n",
       "    </tr>\n",
       "    <tr>\n",
       "      <th>2</th>\n",
       "      <td>She’s so ugly… when she entered an ugly contes...</td>\n",
       "      <td>2</td>\n",
       "    </tr>\n",
       "    <tr>\n",
       "      <th>3</th>\n",
       "      <td>He is so old… his social security number is 6.</td>\n",
       "      <td>3</td>\n",
       "    </tr>\n",
       "    <tr>\n",
       "      <th>4</th>\n",
       "      <td>It is so hot… potatoes cook underground.</td>\n",
       "      <td>4</td>\n",
       "    </tr>\n",
       "    <tr>\n",
       "      <th>...</th>\n",
       "      <td>...</td>\n",
       "      <td>...</td>\n",
       "    </tr>\n",
       "    <tr>\n",
       "      <th>105</th>\n",
       "      <td>She is so fat… when she sits around the house,...</td>\n",
       "      <td>105</td>\n",
       "    </tr>\n",
       "    <tr>\n",
       "      <th>106</th>\n",
       "      <td>She is so ugly… when she walked in to Taco Bel...</td>\n",
       "      <td>106</td>\n",
       "    </tr>\n",
       "    <tr>\n",
       "      <th>107</th>\n",
       "      <td>She is so ugly… when she was born, the doctor ...</td>\n",
       "      <td>107</td>\n",
       "    </tr>\n",
       "    <tr>\n",
       "      <th>108</th>\n",
       "      <td>It was so cold… pickpockets were sticking thei...</td>\n",
       "      <td>108</td>\n",
       "    </tr>\n",
       "    <tr>\n",
       "      <th>109</th>\n",
       "      <td>He is so fat… he's on both sides of the family.</td>\n",
       "      <td>109</td>\n",
       "    </tr>\n",
       "  </tbody>\n",
       "</table>\n",
       "<p>110 rows × 2 columns</p>\n",
       "</div>"
      ],
      "text/plain": [
       "                                                  joke   id\n",
       "0    She is so stupid… she stared at an orange juic...    0\n",
       "1    It is so hot… the trees are whistling for the ...    1\n",
       "2    She’s so ugly… when she entered an ugly contes...    2\n",
       "3       He is so old… his social security number is 6.    3\n",
       "4             It is so hot… potatoes cook underground.    4\n",
       "..                                                 ...  ...\n",
       "105  She is so fat… when she sits around the house,...  105\n",
       "106  She is so ugly… when she walked in to Taco Bel...  106\n",
       "107  She is so ugly… when she was born, the doctor ...  107\n",
       "108  It was so cold… pickpockets were sticking thei...  108\n",
       "109    He is so fat… he's on both sides of the family.  109\n",
       "\n",
       "[110 rows x 2 columns]"
      ]
     },
     "execution_count": 193,
     "metadata": {},
     "output_type": "execute_result"
    }
   ],
   "source": [
    "df"
   ]
  },
  {
   "cell_type": "code",
   "execution_count": 198,
   "metadata": {},
   "outputs": [],
   "source": [
    "grades = []"
   ]
  },
  {
   "cell_type": "code",
   "execution_count": 199,
   "metadata": {},
   "outputs": [],
   "source": [
    "def grade_joke():\n",
    "    for index, row in df.iterrows():\n",
    "        if index < len(grades):\n",
    "            continue\n",
    "        print(f\"Joke #{index + 1}: {row['joke']}\")\n",
    " \n",
    "        grade = int(input(\"grade: \"))\n",
    "        \n",
    "        grades.append(grade)\n",
    "    \n",
    "    return grades\n",
    "\n"
   ]
  },
  {
   "cell_type": "code",
   "execution_count": null,
   "metadata": {},
   "outputs": [],
   "source": [
    "# irony, exagguration, wordplay, deprication"
   ]
  },
  {
   "cell_type": "code",
   "execution_count": 215,
   "metadata": {},
   "outputs": [
    {
     "name": "stdout",
     "output_type": "stream",
     "text": [
      "Joke #36: It was so cold… polar bears were buying fur coats.\n",
      "grade: 10100\n",
      "Joke #37: He is so fat… his driver's license says, “picture continued on other side.”\n",
      "grade: 30101\n",
      "Joke #38: He is so old… when he was in school they didn’t teach history!\n",
      "grade: 20101\n",
      "Joke #39: He is so fat… his blood type is Ragu.\n",
      "grade: 20101\n",
      "Joke #40: She is so fat… when she takes a shower her feet don't get wet.\n",
      "grade: 20101\n",
      "Joke #41: She is so stupid… she can’t make ice without a recipe.\n",
      "grade: 20101\n",
      "Joke #42: She is so old… she was the waitress at the last supper.\n",
      "grade: 20101\n",
      "Joke #43: She is so ugly… when she gets up, the sun goes down.\n",
      "grade: 30101\n",
      "Joke #44: He is so fat… his driver's license says, “picture continued on other side.”\n",
      "grade: 30101\n",
      "Joke #45: His nose is so big… he could smoke a cigar in the shower.\n",
      "grade: 30101\n",
      "Joke #46: She is so ugly… she has to trick or treat over the phone.\n",
      "grade: 20101\n",
      "Joke #47: He is so dumb, blondes tell jokes about him.\n",
      "grade: 20101\n",
      "Joke #48: It is so dry… I caught a catfish that had ticks on him.\n",
      "grade: 10100\n",
      "Joke #49: He is so stupid… it takes him an hour to cook Minute Rice.\n",
      "grade: 20101\n",
      "Joke #50: His ears are so big… he heard the sun come up.\n",
      "grade: 20101\n",
      "Joke #51: She is so fat… when you tell her to haul ass, she gotta make two trips.\n",
      "grade: 20101\n",
      "Joke #52: He is so fat… people jump over him rather than go around.\n",
      "grade: 30101\n",
      "Joke #53: He is so old… when he was in school they didn’t teach history!\n",
      "grade: 20101\n",
      "Joke #54: The mosquitoes in Louisiana are so big, they can stand flat foot and screw a chicken!\n",
      "grade: 20101\n",
      "Joke #55: It is so hot… chickens are laying hard-boiled eggs.\n",
      "grade: 10100\n",
      "Joke #56: He is so ugly… robbers give him their masks to wear.\n",
      "grade: 20101\n",
      "Joke #57: He is so fat… his high school graduation picture was an aerial photograph.\n",
      "grade: 30101\n",
      "Joke #58: It is so hot… the cows arre giving evaporated milk.\n",
      "grade: 10100\n",
      "Joke #59: She is so fat… she laid on the beach and people tried to push her back into the ocean.\n",
      "grade: 20101\n",
      "Joke #60: He is so fat… when he ran away, they had to use all four sides of the milk carton.\n",
      "grade: 10101\n",
      "Joke #61: She is so fat… her favorite meal is seconds.\n",
      "grade: 20101\n",
      "Joke #62: It was so cold… pickpockets were sticking their hands in strangers' pockets to keep warm.\n",
      "grade: 30100\n",
      "Joke #63: She is so fat… she was born with a silver shovel in her mouth.\n",
      "grade: 20101\n",
      "Joke #64: She is so ugly… when she was born, the doctor slapped the wrong end.\n",
      "grade: 30101\n",
      "Joke #65: It is so hot… potatoes cook underground.\n",
      "grade: 10100\n",
      "Joke #66: He is so old… he owes Jesus a quarter.\n",
      "grade: 20101\n",
      "Joke #67: He is so old… his social security number is 6.\n",
      "grade: 20101\n",
      "Joke #68: It was so cold… politicians stopped blowing hot air.\n",
      "grade: 10100\n",
      "Joke #69: He is so fat… he had his own area code.\n",
      "grade: 30101\n",
      "Joke #70: It was so cold… we had lunch at the \"Greasy Spoon\" – just for the heartburn.\n",
      "grade: 20101\n",
      "Joke #71: He is so stupid… he got fired from an M&M factory for throwing out all the W's.\n",
      "grade: 20101\n",
      "Joke #72: She is so fat… she broke the family tree.\n",
      "grade: 30101\n",
      "Joke #73: He is so fat… he can't even jump to a conclusion.\n",
      "grade: 20101\n",
      "Joke #74: She is so ugly… when she walked in to Taco Bell, everyone ran for the border.\n",
      "grade: 30101\n",
      "Joke #75: He is so fat… his high school graduation picture was an aerial photograph.\n",
      "grade: 20101\n",
      "Joke #76: She’s so ugly she makes onions cry.\n",
      "grade: 20101\n",
      "Joke #77: He is so fat… he has group insurance.\n",
      "grade: 20101\n",
      "Joke #78: His nose is so big… he could smoke a cigar in the shower.\n",
      "grade: 20101\n",
      "Joke #79: She is so fat… when she was a kid she could only play seek.\n",
      "grade: 20101\n",
      "Joke #80: It was so cold… the politicians had their hands in their own pockets.\n",
      "grade: 30101\n",
      "Joke #81: Hagi could open a tin of beans with his left foot.\n",
      "grade: 20100\n",
      "Joke #82: If I asked for a cup of coffee, someone would search for the double meaning.\n",
      "grade: 10000\n",
      "Joke #83: He is so stupid… mind readers charge him half price.\n",
      "grade: 20101\n",
      "Joke #84: It is so hot… I saw two trees fighting over a dog.\n",
      "grade: 20101\n",
      "Joke #85: It was so cold… politicians stopped blowing hot air.\n",
      "grade: 20101\n",
      "Joke #86: Hagi could open a tin of beans with his left foot.\n",
      "grade: 20101\n",
      "Joke #87: She is so fat… when she was a kid she could only play seek.\n",
      "grade: 20101\n",
      "Joke #88: It was so cold… we didn't clean the house – we just defrosted it.\n",
      "grade: 10100\n",
      "Joke #89: It is so hot… I saw two trees fighting over a dog.\n",
      "grade: 20101\n",
      "Joke #90: He is so fat… his blood type is Ragu.\n",
      "grade: 20101\n",
      "Joke #91: She is so fat… she can't even jump to conclusions.\n",
      "grade: 20101\n",
      "Joke #92: He is so fat… I had to take a train and two buses just to get on his good side.\n",
      "grade: 20101\n",
      "Joke #93: It was so cold… the kids at school were using flannel notebooks.\n",
      "grade: 20100\n",
      "Joke #94: She is so old… she used to baby-sit Jesus.\n",
      "grade: 30101\n",
      "Joke #95: It is so hot… I saw a squirrel fanning his nuts.\n",
      "grade: 30110\n",
      "Joke #96: It is so hot… I saw a dog chasing a cat and they were both walking.\n",
      "grade: 20101\n",
      "Joke #97: It was so cold… we had lunch at the \"Greasy Spoon\" – just for the heartburn.\n",
      "grade: 20101\n",
      "Joke #98: She is so old… she was the waitress at the last supper.\n",
      "grade: 20101\n",
      "Joke #99: It was so cold… pickpockets were sticking their hands in strangers' pockets to keep warm.\n",
      "grade: 20101\n",
      "Joke #100: He is so ugly… he has to sneak up on his mirror.\n",
      "grade: 30101\n",
      "Joke #101: He is so fat… when he steps on a scale, it reads \"one at a time, please.\"\n",
      "grade: 30101\n",
      "Joke #102: It is so hot… potatoes cook underground.\n",
      "grade: 20101\n",
      "Joke #103: The report of my death was an exaggeration.\n",
      "grade: 10100\n",
      "Joke #104: She’s so ugly she makes onions cry.\n",
      "grade: 20101\n",
      "Joke #105: He is so fat… people jump over him rather than go around.\n",
      "grade: 20101\n",
      "Joke #106: She is so fat… when she sits around the house, she sits around the house.\n",
      "grade: 20101\n",
      "Joke #107: She is so ugly… when she walked in to Taco Bell, everyone ran for the border.\n",
      "grade: 20101\n",
      "Joke #108: She is so ugly… when she was born, the doctor slapped the wrong end.\n",
      "grade: 20101\n",
      "Joke #109: It was so cold… pickpockets were sticking their hands in strangers' pockets to keep warm.\n",
      "grade: 20101\n",
      "Joke #110: He is so fat… he's on both sides of the family.\n",
      "grade: 20101\n"
     ]
    }
   ],
   "source": [
    "grades = grade_joke()"
   ]
  },
  {
   "cell_type": "code",
   "execution_count": 213,
   "metadata": {},
   "outputs": [
    {
     "data": {
      "text/plain": [
       "joke    It is so hot… the trees are whistling for the ...\n",
       "id                                                     33\n",
       "Name: 33, dtype: object"
      ]
     },
     "execution_count": 213,
     "metadata": {},
     "output_type": "execute_result"
    }
   ],
   "source": [
    "df.iloc[32]"
   ]
  },
  {
   "cell_type": "code",
   "execution_count": 214,
   "metadata": {},
   "outputs": [],
   "source": [
    "df = df.drop(df.index[32])\n"
   ]
  },
  {
   "cell_type": "code",
   "execution_count": 223,
   "metadata": {},
   "outputs": [
    {
     "data": {
      "text/plain": [
       "Int64Index([  0,   1,   2,   3,   4,   5,   6,   7,   8,   9,\n",
       "            ...\n",
       "            100, 101, 102, 103, 104, 105, 106, 107, 108, 109],\n",
       "           dtype='int64', length=107)"
      ]
     },
     "execution_count": 223,
     "metadata": {},
     "output_type": "execute_result"
    }
   ],
   "source": []
  },
  {
   "cell_type": "code",
   "execution_count": 224,
   "metadata": {},
   "outputs": [],
   "source": []
  },
  {
   "cell_type": "code",
   "execution_count": 221,
   "metadata": {},
   "outputs": [
    {
     "data": {
      "text/plain": [
       "36"
      ]
     },
     "execution_count": 221,
     "metadata": {},
     "output_type": "execute_result"
    }
   ],
   "source": [
    "df.index[33]"
   ]
  },
  {
   "cell_type": "code",
   "execution_count": 217,
   "metadata": {},
   "outputs": [
    {
     "data": {
      "text/plain": [
       "108"
      ]
     },
     "execution_count": 217,
     "metadata": {},
     "output_type": "execute_result"
    }
   ],
   "source": [
    "len(grades)"
   ]
  },
  {
   "cell_type": "code",
   "execution_count": 219,
   "metadata": {},
   "outputs": [
    {
     "data": {
      "text/plain": [
       "(107, 2)"
      ]
     },
     "execution_count": 219,
     "metadata": {},
     "output_type": "execute_result"
    }
   ],
   "source": [
    "df.shape"
   ]
  },
  {
   "cell_type": "code",
   "execution_count": 225,
   "metadata": {},
   "outputs": [],
   "source": [
    "cols = 'funny irony exaggeration wordplay deprecation'.split()\n",
    "for i in range(5):\n",
    "    df[cols[i]] = [int(str(num)[i]) for num in grades]"
   ]
  },
  {
   "cell_type": "code",
   "execution_count": 227,
   "metadata": {},
   "outputs": [
    {
     "data": {
      "text/plain": [
       "0      She is so stupid… she stared at an orange juic...\n",
       "1      It is so hot… the trees are whistling for the ...\n",
       "2      She’s so ugly… when she entered an ugly contes...\n",
       "3         He is so old… his social security number is 6.\n",
       "4               It is so hot… potatoes cook underground.\n",
       "                             ...                        \n",
       "93            She is so old… she used to baby-sit Jesus.\n",
       "94      It is so hot… I saw a squirrel fanning his nuts.\n",
       "99      He is so ugly… he has to sneak up on his mirror.\n",
       "100    He is so fat… when he steps on a scale, it rea...\n",
       "102          The report of my death was an exaggeration.\n",
       "Name: joke, Length: 72, dtype: object"
      ]
     },
     "execution_count": 227,
     "metadata": {},
     "output_type": "execute_result"
    }
   ],
   "source": [
    "df.joke.drop_duplicates()"
   ]
  },
  {
   "cell_type": "code",
   "execution_count": 228,
   "metadata": {},
   "outputs": [],
   "source": [
    "df = df.drop_duplicates(subset='joke')"
   ]
  },
  {
   "cell_type": "code",
   "execution_count": 235,
   "metadata": {},
   "outputs": [],
   "source": [
    "df = df.reset_index()"
   ]
  },
  {
   "cell_type": "code",
   "execution_count": 238,
   "metadata": {},
   "outputs": [],
   "source": [
    "df = df.drop(columns='index')"
   ]
  },
  {
   "cell_type": "code",
   "execution_count": 239,
   "metadata": {},
   "outputs": [],
   "source": [
    "df['id'] = df.index"
   ]
  },
  {
   "cell_type": "code",
   "execution_count": 243,
   "metadata": {},
   "outputs": [],
   "source": [
    "df['id joke funny irony exaggeration wordplay deprecation'.split()].to_csv('exaggeration_jokes.csv')"
   ]
  },
  {
   "cell_type": "code",
   "execution_count": null,
   "metadata": {},
   "outputs": [],
   "source": []
  }
 ],
 "metadata": {
  "kernelspec": {
   "display_name": "Python 3",
   "language": "python",
   "name": "python3"
  },
  "language_info": {
   "codemirror_mode": {
    "name": "ipython",
    "version": 3
   },
   "file_extension": ".py",
   "mimetype": "text/x-python",
   "name": "python",
   "nbconvert_exporter": "python",
   "pygments_lexer": "ipython3",
   "version": "3.8.3"
  }
 },
 "nbformat": 4,
 "nbformat_minor": 4
}

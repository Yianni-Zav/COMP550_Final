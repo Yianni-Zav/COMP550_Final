{
 "cells": [
  {
   "cell_type": "code",
   "execution_count": 68,
   "metadata": {},
   "outputs": [],
   "source": [
    "from dadjokes import Dadjoke\n",
    "import json\n",
    "import pandas as pd\n",
    "import numpy as np\n",
    "import re\n",
    "from copy import copy"
   ]
  },
  {
   "cell_type": "code",
   "execution_count": null,
   "metadata": {},
   "outputs": [],
   "source": []
  },
  {
   "cell_type": "code",
   "execution_count": null,
   "metadata": {},
   "outputs": [],
   "source": []
  },
  {
   "cell_type": "code",
   "execution_count": null,
   "metadata": {},
   "outputs": [],
   "source": []
  },
  {
   "cell_type": "code",
   "execution_count": 21,
   "metadata": {},
   "outputs": [],
   "source": [
    "df = pd.read_csv('headlines.csv')"
   ]
  },
  {
   "cell_type": "code",
   "execution_count": 23,
   "metadata": {},
   "outputs": [],
   "source": [
    "df.id = df.index"
   ]
  },
  {
   "cell_type": "code",
   "execution_count": 26,
   "metadata": {},
   "outputs": [
    {
     "data": {
      "text/plain": [
       "'\" Pence Is Trying to Control Republican Politics . Trump <Aides/> Are n’t Happy . \" An opportunist hard at work .'"
      ]
     },
     "execution_count": 26,
     "metadata": {},
     "output_type": "execute_result"
    }
   ],
   "source": [
    "df.iloc[0]['original1']"
   ]
  },
  {
   "cell_type": "code",
   "execution_count": 29,
   "metadata": {},
   "outputs": [],
   "source": [
    "def replace_word_in_brackets(row):\n",
    "    # The pattern finds a word within angle brackets\n",
    "    pattern = r'<(.*?)>'\n",
    "    # Replace the found word with the word in 'edit1'\n",
    "    return re.sub(pattern, row['edit1'], row['original1'])\n",
    "\n",
    "# Apply the function to each row\n",
    "df['modified'] = df.apply(replace_word_in_brackets, axis=1)"
   ]
  },
  {
   "cell_type": "code",
   "execution_count": 33,
   "metadata": {},
   "outputs": [
    {
     "data": {
      "text/html": [
       "<div>\n",
       "<style scoped>\n",
       "    .dataframe tbody tr th:only-of-type {\n",
       "        vertical-align: middle;\n",
       "    }\n",
       "\n",
       "    .dataframe tbody tr th {\n",
       "        vertical-align: top;\n",
       "    }\n",
       "\n",
       "    .dataframe thead th {\n",
       "        text-align: right;\n",
       "    }\n",
       "</style>\n",
       "<table border=\"1\" class=\"dataframe\">\n",
       "  <thead>\n",
       "    <tr style=\"text-align: right;\">\n",
       "      <th></th>\n",
       "      <th>id</th>\n",
       "      <th>original1</th>\n",
       "      <th>edit1</th>\n",
       "      <th>modified</th>\n",
       "    </tr>\n",
       "  </thead>\n",
       "  <tbody>\n",
       "    <tr>\n",
       "      <th>0</th>\n",
       "      <td>0</td>\n",
       "      <td>\" Pence Is Trying to Control Republican Politi...</td>\n",
       "      <td>barbers</td>\n",
       "      <td>\" Pence Is Trying to Control Republican Politi...</td>\n",
       "    </tr>\n",
       "    <tr>\n",
       "      <th>1</th>\n",
       "      <td>1</td>\n",
       "      <td>\" Pence Is Trying to Control Republican Politi...</td>\n",
       "      <td>barbers</td>\n",
       "      <td>\" Pence Is Trying to Control Republican Politi...</td>\n",
       "    </tr>\n",
       "    <tr>\n",
       "      <th>2</th>\n",
       "      <td>2</td>\n",
       "      <td>\" Pence Is Trying to &lt;Control/&gt; Republican Pol...</td>\n",
       "      <td>Bungle</td>\n",
       "      <td>\" Pence Is Trying to Bungle Republican Politic...</td>\n",
       "    </tr>\n",
       "    <tr>\n",
       "      <th>3</th>\n",
       "      <td>3</td>\n",
       "      <td>\" There is no Man Behind the Curtain , \" says ...</td>\n",
       "      <td>elephant</td>\n",
       "      <td>\" There is no Man Behind the Curtain , \" says ...</td>\n",
       "    </tr>\n",
       "    <tr>\n",
       "      <th>4</th>\n",
       "      <td>4</td>\n",
       "      <td>\" There is no Man Behind the Curtain , \" says ...</td>\n",
       "      <td>elephant</td>\n",
       "      <td>\" There is no Man Behind the Curtain , \" says ...</td>\n",
       "    </tr>\n",
       "    <tr>\n",
       "      <th>...</th>\n",
       "      <td>...</td>\n",
       "      <td>...</td>\n",
       "      <td>...</td>\n",
       "      <td>...</td>\n",
       "    </tr>\n",
       "    <tr>\n",
       "      <th>394</th>\n",
       "      <td>394</td>\n",
       "      <td>CBO : New Health Care Bill Would Leave &lt;Millio...</td>\n",
       "      <td>dozens</td>\n",
       "      <td>CBO : New Health Care Bill Would Leave dozens ...</td>\n",
       "    </tr>\n",
       "    <tr>\n",
       "      <th>395</th>\n",
       "      <td>395</td>\n",
       "      <td>CBO : New &lt;Health/&gt; Care Bill Would Leave Mill...</td>\n",
       "      <td>sausage</td>\n",
       "      <td>CBO : New sausage Care Bill Would Leave Millio...</td>\n",
       "    </tr>\n",
       "    <tr>\n",
       "      <th>396</th>\n",
       "      <td>396</td>\n",
       "      <td>CBS Poll : Americans lack confidence in Trump ...</td>\n",
       "      <td>locate</td>\n",
       "      <td>CBS Poll : Americans lack confidence in Trump ...</td>\n",
       "    </tr>\n",
       "    <tr>\n",
       "      <th>397</th>\n",
       "      <td>397</td>\n",
       "      <td>CBS Poll : Americans lack confidence in Trump ...</td>\n",
       "      <td>locate</td>\n",
       "      <td>CBS Poll : Americans lack confidence in Trump ...</td>\n",
       "    </tr>\n",
       "    <tr>\n",
       "      <th>398</th>\n",
       "      <td>398</td>\n",
       "      <td>CBS Poll : Americans lack confidence in Trump ...</td>\n",
       "      <td>spaghetti</td>\n",
       "      <td>CBS Poll : Americans lack confidence in Trump ...</td>\n",
       "    </tr>\n",
       "  </tbody>\n",
       "</table>\n",
       "<p>399 rows × 4 columns</p>\n",
       "</div>"
      ],
      "text/plain": [
       "      id                                          original1      edit1  \\\n",
       "0      0  \" Pence Is Trying to Control Republican Politi...    barbers   \n",
       "1      1  \" Pence Is Trying to Control Republican Politi...    barbers   \n",
       "2      2  \" Pence Is Trying to <Control/> Republican Pol...     Bungle   \n",
       "3      3  \" There is no Man Behind the Curtain , \" says ...   elephant   \n",
       "4      4  \" There is no Man Behind the Curtain , \" says ...   elephant   \n",
       "..   ...                                                ...        ...   \n",
       "394  394  CBO : New Health Care Bill Would Leave <Millio...     dozens   \n",
       "395  395  CBO : New <Health/> Care Bill Would Leave Mill...    sausage   \n",
       "396  396  CBS Poll : Americans lack confidence in Trump ...     locate   \n",
       "397  397  CBS Poll : Americans lack confidence in Trump ...     locate   \n",
       "398  398  CBS Poll : Americans lack confidence in Trump ...  spaghetti   \n",
       "\n",
       "                                              modified  \n",
       "0    \" Pence Is Trying to Control Republican Politi...  \n",
       "1    \" Pence Is Trying to Control Republican Politi...  \n",
       "2    \" Pence Is Trying to Bungle Republican Politic...  \n",
       "3    \" There is no Man Behind the Curtain , \" says ...  \n",
       "4    \" There is no Man Behind the Curtain , \" says ...  \n",
       "..                                                 ...  \n",
       "394  CBO : New Health Care Bill Would Leave dozens ...  \n",
       "395  CBO : New sausage Care Bill Would Leave Millio...  \n",
       "396  CBS Poll : Americans lack confidence in Trump ...  \n",
       "397  CBS Poll : Americans lack confidence in Trump ...  \n",
       "398  CBS Poll : Americans lack confidence in Trump ...  \n",
       "\n",
       "[399 rows x 4 columns]"
      ]
     },
     "execution_count": 33,
     "metadata": {},
     "output_type": "execute_result"
    }
   ],
   "source": [
    "df"
   ]
  },
  {
   "cell_type": "code",
   "execution_count": 35,
   "metadata": {},
   "outputs": [
    {
     "data": {
      "text/plain": [
       "'\" Pence Is Trying to Control Republican Politics . Trump <Aides/> Are n’t Happy . \" An opportunist hard at work .'"
      ]
     },
     "execution_count": 35,
     "metadata": {},
     "output_type": "execute_result"
    }
   ],
   "source": [
    "df.iloc[0]['original1']"
   ]
  },
  {
   "cell_type": "code",
   "execution_count": 34,
   "metadata": {},
   "outputs": [
    {
     "data": {
      "text/plain": [
       "'\" Pence Is Trying to Control Republican Politics . Trump barbers Are n’t Happy . \" An opportunist hard at work .'"
      ]
     },
     "execution_count": 34,
     "metadata": {},
     "output_type": "execute_result"
    }
   ],
   "source": [
    "df.iloc[0]['modified']"
   ]
  },
  {
   "cell_type": "code",
   "execution_count": 37,
   "metadata": {},
   "outputs": [],
   "source": [
    "df['id modified'.split()].to_csv('headlines.csv')"
   ]
  },
  {
   "cell_type": "code",
   "execution_count": null,
   "metadata": {},
   "outputs": [],
   "source": []
  },
  {
   "cell_type": "code",
   "execution_count": null,
   "metadata": {},
   "outputs": [],
   "source": []
  },
  {
   "cell_type": "code",
   "execution_count": null,
   "metadata": {},
   "outputs": [],
   "source": []
  },
  {
   "cell_type": "code",
   "execution_count": 88,
   "metadata": {},
   "outputs": [
    {
     "name": "stdout",
     "output_type": "stream",
     "text": [
      "0\n",
      "1\n"
     ]
    }
   ],
   "source": [
    "dadjoke_dict = {}\n",
    "for i in range(200):\n",
    "    print()\n",
    "    dadjoke = Dadjoke()\n",
    "    dadjoke_dict[dadjoke.id] = dadjoke.joke\n"
   ]
  },
  {
   "cell_type": "code",
   "execution_count": 92,
   "metadata": {},
   "outputs": [],
   "source": [
    "df = pd.DataFrame([{'id':id_,'joke':joke}for id_, joke in dadjoke_dict.items()])\n",
    "df.to_csv('dad_jokes.csv')"
   ]
  },
  {
   "cell_type": "code",
   "execution_count": 83,
   "metadata": {},
   "outputs": [],
   "source": [
    "cp = copy(dadjoke_dict)"
   ]
  },
  {
   "cell_type": "code",
   "execution_count": 89,
   "metadata": {},
   "outputs": [],
   "source": [
    "for key in set(cp):\n",
    "    dadjoke_dict[key] = [dadjoke_dict.get(key,cp[key])]"
   ]
  },
  {
   "cell_type": "code",
   "execution_count": null,
   "metadata": {},
   "outputs": [],
   "source": []
  },
  {
   "cell_type": "code",
   "execution_count": null,
   "metadata": {},
   "outputs": [],
   "source": [
    "df.to_csv('dad_jokes.csv')"
   ]
  },
  {
   "cell_type": "code",
   "execution_count": null,
   "metadata": {},
   "outputs": [],
   "source": [
    "for i in range(5):\n",
    "    df[f'digit_{i+1}'] = [int(str(num)[i]) for num in grades]"
   ]
  },
  {
   "cell_type": "code",
   "execution_count": null,
   "metadata": {},
   "outputs": [],
   "source": []
  },
  {
   "cell_type": "code",
   "execution_count": null,
   "metadata": {},
   "outputs": [],
   "source": []
  },
  {
   "cell_type": "code",
   "execution_count": null,
   "metadata": {},
   "outputs": [],
   "source": []
  },
  {
   "cell_type": "code",
   "execution_count": null,
   "metadata": {},
   "outputs": [],
   "source": []
  },
  {
   "cell_type": "code",
   "execution_count": 97,
   "metadata": {},
   "outputs": [
    {
     "data": {
      "text/html": [
       "<div>\n",
       "<style scoped>\n",
       "    .dataframe tbody tr th:only-of-type {\n",
       "        vertical-align: middle;\n",
       "    }\n",
       "\n",
       "    .dataframe tbody tr th {\n",
       "        vertical-align: top;\n",
       "    }\n",
       "\n",
       "    .dataframe thead th {\n",
       "        text-align: right;\n",
       "    }\n",
       "</style>\n",
       "<table border=\"1\" class=\"dataframe\">\n",
       "  <thead>\n",
       "    <tr style=\"text-align: right;\">\n",
       "      <th></th>\n",
       "      <th>id</th>\n",
       "      <th>joke</th>\n",
       "    </tr>\n",
       "  </thead>\n",
       "  <tbody>\n",
       "    <tr>\n",
       "      <th>0</th>\n",
       "      <td>B5h311TS7h</td>\n",
       "      <td>[I couldn't figure out how the seat belt worke...</td>\n",
       "    </tr>\n",
       "    <tr>\n",
       "      <th>1</th>\n",
       "      <td>2o4MZ8pjNuc</td>\n",
       "      <td>It was so cold yesterday my computer froze. My...</td>\n",
       "    </tr>\n",
       "    <tr>\n",
       "      <th>2</th>\n",
       "      <td>mGlbFtk3Tvc</td>\n",
       "      <td>[[Why did the m&amp;m go to school? Because it wan...</td>\n",
       "    </tr>\n",
       "    <tr>\n",
       "      <th>3</th>\n",
       "      <td>1wkqrcNCljb</td>\n",
       "      <td>[[Did you know that protons have mass? I didn'...</td>\n",
       "    </tr>\n",
       "    <tr>\n",
       "      <th>4</th>\n",
       "      <td>trc2EYT0ob</td>\n",
       "      <td>[[The invention of the wheel was what got thin...</td>\n",
       "    </tr>\n",
       "    <tr>\n",
       "      <th>...</th>\n",
       "      <td>...</td>\n",
       "      <td>...</td>\n",
       "    </tr>\n",
       "    <tr>\n",
       "      <th>245</th>\n",
       "      <td>SnOf2gqjiqc</td>\n",
       "      <td>[Why are pirates called pirates? Because they ...</td>\n",
       "    </tr>\n",
       "    <tr>\n",
       "      <th>246</th>\n",
       "      <td>DtWSnydN7h</td>\n",
       "      <td>[[It's difficult to say what my wife does, she...</td>\n",
       "    </tr>\n",
       "    <tr>\n",
       "      <th>247</th>\n",
       "      <td>J69x5hNZvzd</td>\n",
       "      <td>[[I don't trust sushi, there's something fishy...</td>\n",
       "    </tr>\n",
       "    <tr>\n",
       "      <th>248</th>\n",
       "      <td>NucUfVvXLBd</td>\n",
       "      <td>[[[What did the hat say to the scarf?\\r\\nYou c...</td>\n",
       "    </tr>\n",
       "    <tr>\n",
       "      <th>249</th>\n",
       "      <td>7USvkbaahFd</td>\n",
       "      <td>[[[What do you call a boy who stopped digging ...</td>\n",
       "    </tr>\n",
       "  </tbody>\n",
       "</table>\n",
       "<p>250 rows × 2 columns</p>\n",
       "</div>"
      ],
      "text/plain": [
       "              id                                               joke\n",
       "0     B5h311TS7h  [I couldn't figure out how the seat belt worke...\n",
       "1    2o4MZ8pjNuc  It was so cold yesterday my computer froze. My...\n",
       "2    mGlbFtk3Tvc  [[Why did the m&m go to school? Because it wan...\n",
       "3    1wkqrcNCljb  [[Did you know that protons have mass? I didn'...\n",
       "4     trc2EYT0ob  [[The invention of the wheel was what got thin...\n",
       "..           ...                                                ...\n",
       "245  SnOf2gqjiqc  [Why are pirates called pirates? Because they ...\n",
       "246   DtWSnydN7h  [[It's difficult to say what my wife does, she...\n",
       "247  J69x5hNZvzd  [[I don't trust sushi, there's something fishy...\n",
       "248  NucUfVvXLBd  [[[What did the hat say to the scarf?\\r\\nYou c...\n",
       "249  7USvkbaahFd  [[[What do you call a boy who stopped digging ...\n",
       "\n",
       "[250 rows x 2 columns]"
      ]
     },
     "execution_count": 97,
     "metadata": {},
     "output_type": "execute_result"
    }
   ],
   "source": [
    "df"
   ]
  },
  {
   "cell_type": "code",
   "execution_count": null,
   "metadata": {},
   "outputs": [],
   "source": [
    "# irony, exagguration, wordplay, deprication"
   ]
  },
  {
   "cell_type": "code",
   "execution_count": null,
   "metadata": {},
   "outputs": [],
   "source": [
    "grades = []"
   ]
  },
  {
   "cell_type": "code",
   "execution_count": 106,
   "metadata": {},
   "outputs": [
    {
     "name": "stdout",
     "output_type": "stream",
     "text": [
      "Joke #238: [[['What did the grape do when he got stepped on? He let out a little wine.']]]\n",
      "grade: 20010\n",
      "Joke #239: [['They laughed when I said I wanted to be a comedian – they’re not laughing now.']]\n",
      "grade: 20010\n",
      "Joke #240: [\"Why can't eggs have love? They will break up too soon.\"]\n",
      "grade: 20010\n",
      "Joke #241: [['What do you call a guy lying on your doorstep? Matt.']]\n",
      "grade: 20010\n",
      "Joke #242: ['Bad at golf? Join the club.']\n",
      "grade: 20010\n",
      "Joke #243: [[[\"If at first you don't succeed, sky diving is not for you!\"]]]\n",
      "grade: 20010\n",
      "Joke #244: ['Whiteboards ... are remarkable.']\n",
      "grade: 20010\n",
      "Joke #245: [['what do you call a dog that can do magic tricks? a labracadabrador']]\n",
      "grade: 20010\n",
      "Joke #246: ['Why are pirates called pirates? Because they arrr!']\n",
      "grade: 20010\n",
      "Joke #247: [[\"It's difficult to say what my wife does, she sells sea shells by the sea shore.\"]]\n",
      "grade: 20010\n",
      "Joke #248: [[\"I don't trust sushi, there's something fishy about it.\"]]\n",
      "grade: 20010\n",
      "Joke #249: [[[\"What did the hat say to the scarf?\\r\\nYou can hang around. I'll just go on ahead.\\r\\n\"]]]\n",
      "grade: 20010\n",
      "Joke #250: [[['What do you call a boy who stopped digging holes? Douglas.']]]\n",
      "grade: 20010\n"
     ]
    }
   ],
   "source": [
    "\n",
    "def grade_joke():\n",
    "    for index, row in df.iterrows():\n",
    "        if index < len(grades):\n",
    "            continue\n",
    "        print(f\"Joke #{index + 1}: {row['joke']}\")\n",
    " \n",
    "        grade = int(input(\"grade: \"))\n",
    "        \n",
    "        grades.append(grade)\n",
    "    \n",
    "    return grades\n",
    "\n",
    "grades = grade_joke()"
   ]
  },
  {
   "cell_type": "code",
   "execution_count": null,
   "metadata": {},
   "outputs": [],
   "source": []
  },
  {
   "cell_type": "code",
   "execution_count": 28,
   "metadata": {},
   "outputs": [],
   "source": []
  },
  {
   "cell_type": "code",
   "execution_count": null,
   "metadata": {},
   "outputs": [],
   "source": []
  }
 ],
 "metadata": {
  "kernelspec": {
   "display_name": "Python 3",
   "language": "python",
   "name": "python3"
  }
 },
 "nbformat": 4,
 "nbformat_minor": 4
}
